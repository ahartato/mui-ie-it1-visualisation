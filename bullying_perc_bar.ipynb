{
 "cells": [
  {
   "cell_type": "markdown",
   "id": "77b3d787-ef37-4a34-b3f9-82c29cb34059",
   "metadata": {},
   "source": [
    "## Import Libraries"
   ]
  },
  {
   "cell_type": "code",
   "execution_count": 1,
   "id": "32957bea-f526-45f7-be19-f7c0f0215906",
   "metadata": {},
   "outputs": [],
   "source": [
    "import pandas as pd"
   ]
  },
  {
   "cell_type": "markdown",
   "id": "c333e2f2-8048-4e58-a874-1ab3ba4ec2c1",
   "metadata": {},
   "source": [
    "## Load Excel File"
   ]
  },
  {
   "cell_type": "code",
   "execution_count": 3,
   "id": "8f9a8a90-9351-4b0d-b1a0-2c5b566571ef",
   "metadata": {},
   "outputs": [],
   "source": [
    "# Load the Excel file and read the sheet named \"Bullying\"\n",
    "xls = pd.ExcelFile(\"datasets/country_bullying.xlsx\")\n",
    "df = xls.parse(\"Bullying\")"
   ]
  },
  {
   "cell_type": "markdown",
   "id": "04f3b919-8676-4281-8ad7-295511b5d84e",
   "metadata": {},
   "source": [
    "## Extract Headers and Data"
   ]
  },
  {
   "cell_type": "code",
   "execution_count": 4,
   "id": "9938ca4a-2c27-41dc-bb1c-debe7c7c97f5",
   "metadata": {},
   "outputs": [],
   "source": [
    "# Use the 7th row as headers\n",
    "# Fill any merged header cells\n",
    "header_row = df.iloc[6].ffill()  \n",
    "\n",
    "# Start reading data from row 9\n",
    "data = df.iloc[8:].copy()\n",
    "\n",
    "# Set the cleaned headers\n",
    "data.columns = header_row  "
   ]
  },
  {
   "cell_type": "markdown",
   "id": "dff6128b-d7e5-430b-a872-001082f9a435",
   "metadata": {},
   "source": [
    "## Clean Empty Columns and Drop Rows without Country"
   ]
  },
  {
   "cell_type": "code",
   "execution_count": 5,
   "id": "1109e069-cecd-4048-89f6-00f98be58c19",
   "metadata": {},
   "outputs": [],
   "source": [
    "# Remove columns that are completely empty\n",
    "data = data.dropna(axis=1, how='all')\n",
    "\n",
    "# Remove rows where 'Countries and areas' is missing\n",
    "data = data[data['Countries and areas'].notna()]"
   ]
  },
  {
   "cell_type": "markdown",
   "id": "879ff192-9cb4-4452-8275-8cb75deb3a03",
   "metadata": {},
   "source": [
    "## Remove Rows After 'Summary'"
   ]
  },
  {
   "cell_type": "code",
   "execution_count": 6,
   "id": "8674935d-5db1-43f2-9fc6-a2bc3b4db5cd",
   "metadata": {},
   "outputs": [],
   "source": [
    "# If a row contains 'Summary' in the 'Countries and areas' column, drop that and everything after it\n",
    "summary_index = data[data['Countries and areas'].astype(str).str.strip().str.lower() == 'summary'].index\n",
    "if not summary_index.empty:\n",
    "    data = data.loc[:summary_index[0] - 1]"
   ]
  },
  {
   "cell_type": "markdown",
   "id": "024a8abe-32b1-4154-994f-60a69cc38582",
   "metadata": {},
   "source": [
    "## Clean and Deduplicate Column Names"
   ]
  },
  {
   "cell_type": "code",
   "execution_count": 7,
   "id": "9a2327e3-5b15-4f87-ad1b-ce317d0a5454",
   "metadata": {},
   "outputs": [],
   "source": [
    "# Remove newlines and whitespace from column names\n",
    "cleaned_columns = [str(col).strip().replace('\\n', ' ') for col in data.columns]\n",
    "\n",
    "# Rename duplicate columns (e.g. 'Male', 'Male.1') to make them unique\n",
    "new_columns = []\n",
    "counts = {}\n",
    "for col in cleaned_columns:\n",
    "    base = col\n",
    "    if base in counts:\n",
    "        counts[base] += 1\n",
    "        new_columns.append(f\"{base}.{counts[base]}\")\n",
    "    else:\n",
    "        counts[base] = 0\n",
    "        new_columns.append(base)\n",
    "data.columns = new_columns"
   ]
  },
  {
   "cell_type": "markdown",
   "id": "3bb82349-9e3f-4714-a332-afd60558c178",
   "metadata": {},
   "source": [
    "## Remove 'Total', 'Male', 'Female' Columns with Any Blanks"
   ]
  },
  {
   "cell_type": "code",
   "execution_count": 8,
   "id": "f7ee7673-82a4-4386-8365-18ea3f947577",
   "metadata": {},
   "outputs": [],
   "source": [
    "# Drop any 'Total', 'Male', or 'Female' column that contains even one missing or blank value\n",
    "for col in data.columns:\n",
    "    base = col.split('.')[0]  # Handle deduplicated columns like 'Male.1'\n",
    "    if base in ['Total', 'Male', 'Female']:\n",
    "        col_series = data[col]\n",
    "        is_na = col_series.isna().any()  # Check for NaN values\n",
    "        is_blank = col_series.astype(str).str.strip().eq('').any()  # Check for blank strings\n",
    "        if is_na or is_blank:\n",
    "            data.drop(columns=[col], inplace=True)"
   ]
  },
  {
   "cell_type": "markdown",
   "id": "473ca87e-7b51-4f06-bd24-9d3aeaa5b795",
   "metadata": {},
   "source": [
    "## Add ASEAN Label Column"
   ]
  },
  {
   "cell_type": "code",
   "execution_count": 9,
   "id": "482ea01e-e9ad-4279-9b59-18723ff9d69a",
   "metadata": {},
   "outputs": [],
   "source": [
    "# Define ASEAN country list\n",
    "asean_countries = {\n",
    "    \"Brunei Darussalam\", \"Cambodia\", \"Indonesia\", \"Lao People's Democratic Republic\",\n",
    "    \"Malaysia\", \"Myanmar\", \"Philippines\", \"Singapore\", \"Thailand\", \"Viet Nam\"\n",
    "}\n",
    "\n",
    "# Create a new column that labels each row as 'ASEAN' or 'Non-ASEAN'\n",
    "data['ASEAN_Label'] = data['Countries and areas'].apply(\n",
    "    lambda x: \"ASEAN\" if str(x).strip() in asean_countries else \"Non-ASEAN\"\n",
    ")"
   ]
  },
  {
   "cell_type": "markdown",
   "id": "02be64df-3c62-4cc2-9e08-bfcc61e6fee8",
   "metadata": {},
   "source": [
    "## Set Singapore's 'Male', 'Female', and 'Total' Values to 25"
   ]
  },
  {
   "cell_type": "code",
   "execution_count": 10,
   "id": "2d07e585-86e5-4701-83d2-06afbf0e553a",
   "metadata": {},
   "outputs": [],
   "source": [
    "# Identify the row for Singapore\n",
    "singapore_mask = data['Countries and areas'].astype(str).str.strip().str.lower() == 'singapore'\n",
    "\n",
    "# For the first existing column that starts with 'Male', 'Female', or 'Total', set its value to 25\n",
    "for col in ['Male', 'Female', 'Total']:\n",
    "    matching_cols = [c for c in data.columns if c.startswith(col)]\n",
    "    if matching_cols:\n",
    "        data.loc[singapore_mask, matching_cols[0]] = 25"
   ]
  },
  {
   "cell_type": "markdown",
   "id": "a13872e8-503a-498e-9d93-f485094af6cc",
   "metadata": {},
   "source": [
    "## Export Final Cleaned Data to CSV"
   ]
  },
  {
   "cell_type": "code",
   "execution_count": 13,
   "id": "b03ae84d-917a-4108-86b5-e2d34aeefc6e",
   "metadata": {},
   "outputs": [],
   "source": [
    "# Save the cleaned data to a new CSV file\n",
    "data.to_csv(\"filtered_bullying_perc_gender_region.csv\", index=False)"
   ]
  }
 ],
 "metadata": {
  "kernelspec": {
   "display_name": "Python 3 (ipykernel)",
   "language": "python",
   "name": "python3"
  },
  "language_info": {
   "codemirror_mode": {
    "name": "ipython",
    "version": 3
   },
   "file_extension": ".py",
   "mimetype": "text/x-python",
   "name": "python",
   "nbconvert_exporter": "python",
   "pygments_lexer": "ipython3",
   "version": "3.12.7"
  }
 },
 "nbformat": 4,
 "nbformat_minor": 5
}
